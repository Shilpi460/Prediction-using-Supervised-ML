{
 "cells": [
  {
   "cell_type": "markdown",
   "metadata": {},
   "source": [
    "# Shilpi Dubey\n",
    "Data Science & Business Analytics Intern @GRIP - The Sparks Foundation\n",
    "\n",
    "\n"
   ]
  },
  {
   "cell_type": "markdown",
   "metadata": {},
   "source": [
    "### TASK 1\n",
    "Prediction using Supervised ML"
   ]
  },
  {
   "cell_type": "markdown",
   "metadata": {},
   "source": [
    "### Objective:\n",
    "Predict the percentage of students based on number of study hours.\n",
    "This is a SIMPLE LINEAR REGRESSION analysis task which involves only two variables.\n",
    "What will be predicted score if a student studies for 9.25 hrs/ day?\n"
   ]
  },
  {
   "cell_type": "markdown",
   "metadata": {},
   "source": [
    "#### Installing necessary packages and importing libraries"
   ]
  },
  {
   "cell_type": "code",
   "execution_count": 20,
   "metadata": {},
   "outputs": [],
   "source": [
    "library(readr)\n",
    "library(dplyr)\n",
    "library(caret)\n",
    "library(Metrics)\n",
    "library(stats)"
   ]
  },
  {
   "cell_type": "markdown",
   "metadata": {},
   "source": [
    "#### Importing dataset"
   ]
  },
  {
   "cell_type": "code",
   "execution_count": 2,
   "metadata": {},
   "outputs": [
    {
     "name": "stdout",
     "output_type": "stream",
     "text": [
      "[1] \"Data successfully imported\"\n"
     ]
    },
    {
     "data": {
      "text/html": [
       "<table>\n",
       "<thead><tr><th scope=col>Hours</th><th scope=col>Scores</th></tr></thead>\n",
       "<tbody>\n",
       "\t<tr><td>2.5</td><td>21 </td></tr>\n",
       "\t<tr><td>5.1</td><td>47 </td></tr>\n",
       "\t<tr><td>3.2</td><td>27 </td></tr>\n",
       "\t<tr><td>8.5</td><td>75 </td></tr>\n",
       "\t<tr><td>3.5</td><td>30 </td></tr>\n",
       "\t<tr><td>1.5</td><td>20 </td></tr>\n",
       "\t<tr><td>9.2</td><td>88 </td></tr>\n",
       "\t<tr><td>5.5</td><td>60 </td></tr>\n",
       "\t<tr><td>8.3</td><td>81 </td></tr>\n",
       "\t<tr><td>2.7</td><td>25 </td></tr>\n",
       "\t<tr><td>7.7</td><td>85 </td></tr>\n",
       "\t<tr><td>5.9</td><td>62 </td></tr>\n",
       "\t<tr><td>4.5</td><td>41 </td></tr>\n",
       "\t<tr><td>3.3</td><td>42 </td></tr>\n",
       "\t<tr><td>1.1</td><td>17 </td></tr>\n",
       "\t<tr><td>8.9</td><td>95 </td></tr>\n",
       "\t<tr><td>2.5</td><td>30 </td></tr>\n",
       "\t<tr><td>1.9</td><td>24 </td></tr>\n",
       "\t<tr><td>6.1</td><td>67 </td></tr>\n",
       "\t<tr><td>7.4</td><td>69 </td></tr>\n",
       "\t<tr><td>2.7</td><td>30 </td></tr>\n",
       "\t<tr><td>4.8</td><td>54 </td></tr>\n",
       "\t<tr><td>3.8</td><td>35 </td></tr>\n",
       "\t<tr><td>6.9</td><td>76 </td></tr>\n",
       "\t<tr><td>7.8</td><td>86 </td></tr>\n",
       "</tbody>\n",
       "</table>\n"
      ],
      "text/latex": [
       "\\begin{tabular}{r|ll}\n",
       " Hours & Scores\\\\\n",
       "\\hline\n",
       "\t 2.5 & 21 \\\\\n",
       "\t 5.1 & 47 \\\\\n",
       "\t 3.2 & 27 \\\\\n",
       "\t 8.5 & 75 \\\\\n",
       "\t 3.5 & 30 \\\\\n",
       "\t 1.5 & 20 \\\\\n",
       "\t 9.2 & 88 \\\\\n",
       "\t 5.5 & 60 \\\\\n",
       "\t 8.3 & 81 \\\\\n",
       "\t 2.7 & 25 \\\\\n",
       "\t 7.7 & 85 \\\\\n",
       "\t 5.9 & 62 \\\\\n",
       "\t 4.5 & 41 \\\\\n",
       "\t 3.3 & 42 \\\\\n",
       "\t 1.1 & 17 \\\\\n",
       "\t 8.9 & 95 \\\\\n",
       "\t 2.5 & 30 \\\\\n",
       "\t 1.9 & 24 \\\\\n",
       "\t 6.1 & 67 \\\\\n",
       "\t 7.4 & 69 \\\\\n",
       "\t 2.7 & 30 \\\\\n",
       "\t 4.8 & 54 \\\\\n",
       "\t 3.8 & 35 \\\\\n",
       "\t 6.9 & 76 \\\\\n",
       "\t 7.8 & 86 \\\\\n",
       "\\end{tabular}\n"
      ],
      "text/markdown": [
       "\n",
       "| Hours | Scores |\n",
       "|---|---|\n",
       "| 2.5 | 21  |\n",
       "| 5.1 | 47  |\n",
       "| 3.2 | 27  |\n",
       "| 8.5 | 75  |\n",
       "| 3.5 | 30  |\n",
       "| 1.5 | 20  |\n",
       "| 9.2 | 88  |\n",
       "| 5.5 | 60  |\n",
       "| 8.3 | 81  |\n",
       "| 2.7 | 25  |\n",
       "| 7.7 | 85  |\n",
       "| 5.9 | 62  |\n",
       "| 4.5 | 41  |\n",
       "| 3.3 | 42  |\n",
       "| 1.1 | 17  |\n",
       "| 8.9 | 95  |\n",
       "| 2.5 | 30  |\n",
       "| 1.9 | 24  |\n",
       "| 6.1 | 67  |\n",
       "| 7.4 | 69  |\n",
       "| 2.7 | 30  |\n",
       "| 4.8 | 54  |\n",
       "| 3.8 | 35  |\n",
       "| 6.9 | 76  |\n",
       "| 7.8 | 86  |\n",
       "\n"
      ],
      "text/plain": [
       "   Hours Scores\n",
       "1  2.5   21    \n",
       "2  5.1   47    \n",
       "3  3.2   27    \n",
       "4  8.5   75    \n",
       "5  3.5   30    \n",
       "6  1.5   20    \n",
       "7  9.2   88    \n",
       "8  5.5   60    \n",
       "9  8.3   81    \n",
       "10 2.7   25    \n",
       "11 7.7   85    \n",
       "12 5.9   62    \n",
       "13 4.5   41    \n",
       "14 3.3   42    \n",
       "15 1.1   17    \n",
       "16 8.9   95    \n",
       "17 2.5   30    \n",
       "18 1.9   24    \n",
       "19 6.1   67    \n",
       "20 7.4   69    \n",
       "21 2.7   30    \n",
       "22 4.8   54    \n",
       "23 3.8   35    \n",
       "24 6.9   76    \n",
       "25 7.8   86    "
      ]
     },
     "metadata": {},
     "output_type": "display_data"
    }
   ],
   "source": [
    "students_data <- read.csv(\"https://raw.githubusercontent.com/AdiPersonalWorks/Random/master/student_scores%20-%20student_scores.csv\")\n",
    "print(\"Data successfully imported\")\n",
    "students_data"
   ]
  },
  {
   "cell_type": "code",
   "execution_count": 3,
   "metadata": {},
   "outputs": [
    {
     "data": {
      "text/html": [
       "<table>\n",
       "<thead><tr><th scope=col>Hours</th><th scope=col>Scores</th></tr></thead>\n",
       "<tbody>\n",
       "\t<tr><td>2.5</td><td>21 </td></tr>\n",
       "\t<tr><td>5.1</td><td>47 </td></tr>\n",
       "\t<tr><td>3.2</td><td>27 </td></tr>\n",
       "\t<tr><td>8.5</td><td>75 </td></tr>\n",
       "\t<tr><td>3.5</td><td>30 </td></tr>\n",
       "\t<tr><td>1.5</td><td>20 </td></tr>\n",
       "</tbody>\n",
       "</table>\n"
      ],
      "text/latex": [
       "\\begin{tabular}{r|ll}\n",
       " Hours & Scores\\\\\n",
       "\\hline\n",
       "\t 2.5 & 21 \\\\\n",
       "\t 5.1 & 47 \\\\\n",
       "\t 3.2 & 27 \\\\\n",
       "\t 8.5 & 75 \\\\\n",
       "\t 3.5 & 30 \\\\\n",
       "\t 1.5 & 20 \\\\\n",
       "\\end{tabular}\n"
      ],
      "text/markdown": [
       "\n",
       "| Hours | Scores |\n",
       "|---|---|\n",
       "| 2.5 | 21  |\n",
       "| 5.1 | 47  |\n",
       "| 3.2 | 27  |\n",
       "| 8.5 | 75  |\n",
       "| 3.5 | 30  |\n",
       "| 1.5 | 20  |\n",
       "\n"
      ],
      "text/plain": [
       "  Hours Scores\n",
       "1 2.5   21    \n",
       "2 5.1   47    \n",
       "3 3.2   27    \n",
       "4 8.5   75    \n",
       "5 3.5   30    \n",
       "6 1.5   20    "
      ]
     },
     "metadata": {},
     "output_type": "display_data"
    }
   ],
   "source": [
    "head(students_data)"
   ]
  },
  {
   "cell_type": "code",
   "execution_count": 4,
   "metadata": {},
   "outputs": [
    {
     "data": {
      "text/html": [
       "<table>\n",
       "<thead><tr><th></th><th scope=col>Hours</th><th scope=col>Scores</th></tr></thead>\n",
       "<tbody>\n",
       "\t<tr><th scope=row>20</th><td>7.4</td><td>69 </td></tr>\n",
       "\t<tr><th scope=row>21</th><td>2.7</td><td>30 </td></tr>\n",
       "\t<tr><th scope=row>22</th><td>4.8</td><td>54 </td></tr>\n",
       "\t<tr><th scope=row>23</th><td>3.8</td><td>35 </td></tr>\n",
       "\t<tr><th scope=row>24</th><td>6.9</td><td>76 </td></tr>\n",
       "\t<tr><th scope=row>25</th><td>7.8</td><td>86 </td></tr>\n",
       "</tbody>\n",
       "</table>\n"
      ],
      "text/latex": [
       "\\begin{tabular}{r|ll}\n",
       "  & Hours & Scores\\\\\n",
       "\\hline\n",
       "\t20 & 7.4 & 69 \\\\\n",
       "\t21 & 2.7 & 30 \\\\\n",
       "\t22 & 4.8 & 54 \\\\\n",
       "\t23 & 3.8 & 35 \\\\\n",
       "\t24 & 6.9 & 76 \\\\\n",
       "\t25 & 7.8 & 86 \\\\\n",
       "\\end{tabular}\n"
      ],
      "text/markdown": [
       "\n",
       "| <!--/--> | Hours | Scores |\n",
       "|---|---|---|\n",
       "| 20 | 7.4 | 69  |\n",
       "| 21 | 2.7 | 30  |\n",
       "| 22 | 4.8 | 54  |\n",
       "| 23 | 3.8 | 35  |\n",
       "| 24 | 6.9 | 76  |\n",
       "| 25 | 7.8 | 86  |\n",
       "\n"
      ],
      "text/plain": [
       "   Hours Scores\n",
       "20 7.4   69    \n",
       "21 2.7   30    \n",
       "22 4.8   54    \n",
       "23 3.8   35    \n",
       "24 6.9   76    \n",
       "25 7.8   86    "
      ]
     },
     "metadata": {},
     "output_type": "display_data"
    }
   ],
   "source": [
    "tail(students_data)"
   ]
  },
  {
   "cell_type": "code",
   "execution_count": 5,
   "metadata": {},
   "outputs": [
    {
     "data": {
      "text/plain": [
       "     Hours           Scores     \n",
       " Min.   :1.100   Min.   :17.00  \n",
       " 1st Qu.:2.700   1st Qu.:30.00  \n",
       " Median :4.800   Median :47.00  \n",
       " Mean   :5.012   Mean   :51.48  \n",
       " 3rd Qu.:7.400   3rd Qu.:75.00  \n",
       " Max.   :9.200   Max.   :95.00  "
      ]
     },
     "metadata": {},
     "output_type": "display_data"
    }
   ],
   "source": [
    "summary(students_data)"
   ]
  },
  {
   "cell_type": "markdown",
   "metadata": {},
   "source": [
    "#### Checking for NAs"
   ]
  },
  {
   "cell_type": "code",
   "execution_count": 6,
   "metadata": {},
   "outputs": [
    {
     "data": {
      "text/plain": [
       "\n",
       "FALSE \n",
       "   50 "
      ]
     },
     "metadata": {},
     "output_type": "display_data"
    }
   ],
   "source": [
    "table(is.na(students_data))"
   ]
  },
  {
   "cell_type": "markdown",
   "metadata": {},
   "source": [
    "#### Checking for outliers"
   ]
  },
  {
   "cell_type": "code",
   "execution_count": 7,
   "metadata": {},
   "outputs": [
    {
     "data": {
      "image/png": "[encoded data removed]",
      "text/plain": [
       "plot without title"
      ]
     },
     "metadata": {},
     "output_type": "display_data"
    }
   ],
   "source": [
    "boxplot(students_data)"
   ]
  },
  {
   "cell_type": "markdown",
   "metadata": {},
   "source": [
    "#### Visualizing the data "
   ]
  },
  {
   "cell_type": "code",
   "execution_count": 8,
   "metadata": {},
   "outputs": [
    {
     "data": {
      "image/png": "[encoded data removed]",
      "text/plain": [
       "plot without title"
      ]
     },
     "metadata": {},
     "output_type": "display_data"
    }
   ],
   "source": [
    "students_data %>% ggplot(aes(x=Hours, y=Scores)) +geom_point(color = \"blue\", size = 2)"
   ]
  },
  {
   "cell_type": "raw",
   "metadata": {},
   "source": [
    "This plot shows a positive linear relationship between the Scores secured and number of hours of study."
   ]
  },
  {
   "cell_type": "markdown",
   "metadata": {},
   "source": [
    "#### Splitting the dataset into training and testing data "
   ]
  },
  {
   "cell_type": "code",
   "execution_count": 9,
   "metadata": {},
   "outputs": [],
   "source": [
    "set.seed(234)\n",
    "train_index <- createDataPartition(students_data$Scores, p=0.7, list = FALSE)\n",
    "training_data <- students_data[train_index,]\n",
    "testing_data <- students_data[-train_index,]"
   ]
  },
  {
   "cell_type": "markdown",
   "metadata": {},
   "source": [
    "#### Training of data"
   ]
  },
  {
   "cell_type": "code",
   "execution_count": 10,
   "metadata": {},
   "outputs": [
    {
     "data": {
      "text/plain": [
       "\n",
       "Call:\n",
       "lm(formula = Scores ~ Hours, data = training_data)\n",
       "\n",
       "Coefficients:\n",
       "(Intercept)        Hours  \n",
       "      1.263       10.067  \n"
      ]
     },
     "metadata": {},
     "output_type": "display_data"
    },
    {
     "name": "stdout",
     "output_type": "stream",
     "text": [
      "[1] \"Training finished\"\n"
     ]
    }
   ],
   "source": [
    "model <- lm(formula = Scores~Hours, data = training_data)\n",
    "model\n",
    "print(\"Training finished\")"
   ]
  },
  {
   "cell_type": "markdown",
   "metadata": {},
   "source": [
    "#### Plotting the regression line on training data"
   ]
  },
  {
   "cell_type": "code",
   "execution_count": 11,
   "metadata": {},
   "outputs": [
    {
     "data": {
      "image/png": "[encoded data removed]",
      "text/plain": [
       "plot without title"
      ]
     },
     "metadata": {},
     "output_type": "display_data"
    }
   ],
   "source": [
    "training_data %>% ggplot(aes(x=Hours, y=Scores)) + \n",
    "  geom_point(color = \"Blue\") + geom_abline(slope=model$coefficients[2], intercept = model$coefficients[1])"
   ]
  },
  {
   "cell_type": "markdown",
   "metadata": {},
   "source": [
    "#### Prediction on testing data"
   ]
  },
  {
   "cell_type": "code",
   "execution_count": 12,
   "metadata": {},
   "outputs": [
    {
     "data": {
      "text/html": [
       "<dl class=dl-horizontal>\n",
       "\t<dt>5</dt>\n",
       "\t\t<dd>36.4957592373776</dd>\n",
       "\t<dt>6</dt>\n",
       "\t\t<dd>16.3625442052723</dd>\n",
       "\t<dt>9</dt>\n",
       "\t\t<dd>84.8154753144304</dd>\n",
       "\t<dt>14</dt>\n",
       "\t\t<dd>34.482437734167</dd>\n",
       "\t<dt>20</dt>\n",
       "\t\t<dd>75.755528549983</dd>\n",
       "</dl>\n"
      ],
      "text/latex": [
       "\\begin{description*}\n",
       "\\item[5] 36.4957592373776\n",
       "\\item[6] 16.3625442052723\n",
       "\\item[9] 84.8154753144304\n",
       "\\item[14] 34.482437734167\n",
       "\\item[20] 75.755528549983\n",
       "\\end{description*}\n"
      ],
      "text/markdown": [
       "5\n",
       ":   36.49575923737766\n",
       ":   16.36254420527239\n",
       ":   84.815475314430414\n",
       ":   34.48243773416720\n",
       ":   75.755528549983\n",
       "\n"
      ],
      "text/plain": [
       "       5        6        9       14       20 \n",
       "36.49576 16.36254 84.81548 34.48244 75.75553 "
      ]
     },
     "metadata": {},
     "output_type": "display_data"
    }
   ],
   "source": [
    "prediction <- predict(model, testing_data)\n",
    "prediction"
   ]
  },
  {
   "cell_type": "markdown",
   "metadata": {},
   "source": [
    "#### Plotting regression line on testing data"
   ]
  },
  {
   "cell_type": "code",
   "execution_count": 13,
   "metadata": {},
   "outputs": [
    {
     "data": {
      "image/png": "[encoded data removed]",
      "text/plain": [
       "plot without title"
      ]
     },
     "metadata": {},
     "output_type": "display_data"
    }
   ],
   "source": [
    "testing_data %>% ggplot(aes(x=Hours, y= Scores, color=\"green\")) +geom_point(color=\"purple\") +\n",
    "  geom_line(aes(x=Hours, y= prediction), color = \"black\")"
   ]
  },
  {
   "cell_type": "markdown",
   "metadata": {},
   "source": [
    "#### Comparing actual vs predicted score"
   ]
  },
  {
   "cell_type": "code",
   "execution_count": 14,
   "metadata": {},
   "outputs": [
    {
     "data": {
      "text/html": [
       "<table>\n",
       "<thead><tr><th></th><th scope=col>actual</th><th scope=col>predicted</th></tr></thead>\n",
       "<tbody>\n",
       "\t<tr><th scope=row>5</th><td>30      </td><td>36.49576</td></tr>\n",
       "\t<tr><th scope=row>6</th><td>20      </td><td>16.36254</td></tr>\n",
       "\t<tr><th scope=row>9</th><td>81      </td><td>84.81548</td></tr>\n",
       "\t<tr><th scope=row>14</th><td>42      </td><td>34.48244</td></tr>\n",
       "\t<tr><th scope=row>20</th><td>69      </td><td>75.75553</td></tr>\n",
       "</tbody>\n",
       "</table>\n"
      ],
      "text/latex": [
       "\\begin{tabular}{r|ll}\n",
       "  & actual & predicted\\\\\n",
       "\\hline\n",
       "\t5 & 30       & 36.49576\\\\\n",
       "\t6 & 20       & 16.36254\\\\\n",
       "\t9 & 81       & 84.81548\\\\\n",
       "\t14 & 42       & 34.48244\\\\\n",
       "\t20 & 69       & 75.75553\\\\\n",
       "\\end{tabular}\n"
      ],
      "text/markdown": [
       "\n",
       "| <!--/--> | actual | predicted |\n",
       "|---|---|---|\n",
       "| 5 | 30       | 36.49576 |\n",
       "| 6 | 20       | 16.36254 |\n",
       "| 9 | 81       | 84.81548 |\n",
       "| 14 | 42       | 34.48244 |\n",
       "| 20 | 69       | 75.75553 |\n",
       "\n"
      ],
      "text/plain": [
       "   actual predicted\n",
       "5  30     36.49576 \n",
       "6  20     16.36254 \n",
       "9  81     84.81548 \n",
       "14 42     34.48244 \n",
       "20 69     75.75553 "
      ]
     },
     "metadata": {},
     "output_type": "display_data"
    }
   ],
   "source": [
    "data.frame(actual=testing_data$Scores, predicted = prediction)"
   ]
  },
  {
   "cell_type": "markdown",
   "metadata": {},
   "source": [
    "#### Accuracy of the Model"
   ]
  },
  {
   "cell_type": "code",
   "execution_count": 15,
   "metadata": {},
   "outputs": [
    {
     "data": {
      "text/html": [
       "0.961363741280671"
      ],
      "text/latex": [
       "0.961363741280671"
      ],
      "text/markdown": [
       "0.961363741280671"
      ],
      "text/plain": [
       "[1] 0.9613637"
      ]
     },
     "metadata": {},
     "output_type": "display_data"
    }
   ],
   "source": [
    "R2(prediction, testing_data$Scores)"
   ]
  },
  {
   "cell_type": "raw",
   "metadata": {},
   "source": [
    "Above 96% shows that the above fitted model is a good model."
   ]
  },
  {
   "cell_type": "markdown",
   "metadata": {},
   "source": [
    "#### Predicting the error"
   ]
  },
  {
   "cell_type": "code",
   "execution_count": 16,
   "metadata": {},
   "outputs": [
    {
     "data": {
      "text/html": [
       "<span style=white-space:pre-wrap>'Mean Squared Error =  34.4269466027825'</span>"
      ],
      "text/latex": [
       "'Mean Squared Error =  34.4269466027825'"
      ],
      "text/markdown": [
       "<span style=white-space:pre-wrap>'Mean Squared Error =  34.4269466027825'</span>"
      ],
      "text/plain": [
       "[1] \"Mean Squared Error =  34.4269466027825\""
      ]
     },
     "metadata": {},
     "output_type": "display_data"
    },
    {
     "data": {
      "text/html": [
       "<span style=white-space:pre-wrap>'Mean Absolute Error =  5.64435623247032'</span>"
      ],
      "text/latex": [
       "'Mean Absolute Error =  5.64435623247032'"
      ],
      "text/markdown": [
       "<span style=white-space:pre-wrap>'Mean Absolute Error =  5.64435623247032'</span>"
      ],
      "text/plain": [
       "[1] \"Mean Absolute Error =  5.64435623247032\""
      ]
     },
     "metadata": {},
     "output_type": "display_data"
    },
    {
     "data": {
      "text/html": [
       "<span style=white-space:pre-wrap>'Root Mean Squared Error =  5.86744804857977'</span>"
      ],
      "text/latex": [
       "'Root Mean Squared Error =  5.86744804857977'"
      ],
      "text/markdown": [
       "<span style=white-space:pre-wrap>'Root Mean Squared Error =  5.86744804857977'</span>"
      ],
      "text/plain": [
       "[1] \"Root Mean Squared Error =  5.86744804857977\""
      ]
     },
     "metadata": {},
     "output_type": "display_data"
    }
   ],
   "source": [
    "MSE <- mean((testing_data$Scores-prediction)^2)\n",
    "MAE <- MAE(prediction,testing_data$Scores)\n",
    "RMSE <- RMSE(prediction, testing_data$Scores)\n",
    "paste(\"Mean Squared Error = \",MSE)\n",
    "paste(\"Mean Absolute Error = \", MAE)\n",
    "paste(\"Root Mean Squared Error = \",RMSE)"
   ]
  },
  {
   "cell_type": "markdown",
   "metadata": {},
   "source": [
    "#### Predicting the score"
   ]
  },
  {
   "cell_type": "code",
   "execution_count": 17,
   "metadata": {},
   "outputs": [
    {
     "data": {
      "text/html": [
       "<span style=white-space:pre-wrap>'Predicted score of student studying 9.25 hrs/day =  94.3787524546804'</span>"
      ],
      "text/latex": [
       "'Predicted score of student studying 9.25 hrs/day =  94.3787524546804'"
      ],
      "text/markdown": [
       "<span style=white-space:pre-wrap>'Predicted score of student studying 9.25 hrs/day =  94.3787524546804'</span>"
      ],
      "text/plain": [
       "[1] \"Predicted score of student studying 9.25 hrs/day =  94.3787524546804\""
      ]
     },
     "metadata": {},
     "output_type": "display_data"
    }
   ],
   "source": [
    "no_of_hours = 9.25\n",
    "predicted_Score = model$coefficients[1] + model$coefficients[2]*no_of_hours\n",
    "paste(\"Predicted score of student studying 9.25 hrs/day = \",predicted_Score)"
   ]
  },
  {
   "cell_type": "markdown",
   "metadata": {},
   "source": [
    "# CONCLUSION:\n",
    "From this, we can conclude that if a student studies for 9.25 hrs/day then he/she will secure 94.37 marks."
   ]
  },
  {
   "cell_type": "markdown",
   "metadata": {},
   "source": [
    "### Thank you!!"
   ]
  }
 ],
 "metadata": {
  "kernelspec": {
   "display_name": "R",
   "language": "R",
   "name": "ir"
  },
  "language_info": {
   "codemirror_mode": "r",
   "file_extension": ".r",
   "mimetype": "text/x-r-source",
   "name": "R",
   "pygments_lexer": "r",
   "version": "3.6.1"
  }
 },
 "nbformat": 4,
 "nbformat_minor": 2
}
